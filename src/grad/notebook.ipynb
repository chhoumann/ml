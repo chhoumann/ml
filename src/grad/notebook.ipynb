{
 "cells": [
  {
   "cell_type": "code",
   "execution_count": 1,
   "metadata": {},
   "outputs": [],
   "source": [
    "import math\n",
    "import numpy as np\n",
    "import matplotlib.pyplot as plt\n",
    "%matplotlib inline\n",
    "%load_ext autoreload\n",
    "%autoreload 2"
   ]
  },
  {
   "cell_type": "markdown",
   "metadata": {},
   "source": [
    "$$\n",
    "3x^2-4x+5\n",
    "$$"
   ]
  },
  {
   "cell_type": "code",
   "execution_count": 2,
   "metadata": {},
   "outputs": [],
   "source": [
    "def f(x):\n",
    "    return 3 * x**2 - 4*x +5"
   ]
  },
  {
   "cell_type": "code",
   "execution_count": 3,
   "metadata": {},
   "outputs": [
    {
     "data": {
      "text/plain": [
       "20.0"
      ]
     },
     "execution_count": 3,
     "metadata": {},
     "output_type": "execute_result"
    }
   ],
   "source": [
    "f(3.0)"
   ]
  },
  {
   "cell_type": "code",
   "execution_count": 4,
   "metadata": {},
   "outputs": [
    {
     "data": {
      "text/plain": [
       "[<matplotlib.lines.Line2D at 0x7f85f5ab07d0>]"
      ]
     },
     "execution_count": 4,
     "metadata": {},
     "output_type": "execute_result"
    },
    {
     "data": {
      "image/png": "[encoded data removed]",
      "text/plain": [
       "<Figure size 640x480 with 1 Axes>"
      ]
     },
     "metadata": {},
     "output_type": "display_data"
    }
   ],
   "source": [
    "xs = np.arange(-5, 5, 0.25)\n",
    "ys = f(xs)\n",
    "plt.plot(xs, ys) # show parabola"
   ]
  },
  {
   "cell_type": "markdown",
   "metadata": {},
   "source": [
    "What is the derivative of this function at any given input $x$?\n",
    "\n",
    "In ML, we don't actually write out the derivatives for each function we use. Instead, we use a technique called automatic differentiation.\n",
    "\n",
    "Derivatives tell us how a function changes as its input changes.\n",
    "How does the slope of the function change as we move along the x-axis?"
   ]
  },
  {
   "cell_type": "code",
   "execution_count": 5,
   "metadata": {},
   "outputs": [
    {
     "data": {
      "text/plain": [
       "14.00300000000243"
      ]
     },
     "execution_count": 5,
     "metadata": {},
     "output_type": "execute_result"
    }
   ],
   "source": [
    "# How do you think $f$ changes when $x$ changes by a small amount $h$?\n",
    "h = 0.001\n",
    "x = 3.0\n",
    "f(x+h) # the value of $f$ of $x$ plus a small amount, $h$.\n",
    "f(x+h) - f(x) # the change in $f$ when $x$ changes by $h$.\n",
    "(f(x+h) - f(x)) / h # we normalize by the run, $h$ (rise/run). This is just a numerical approximation of the slope.\n",
    "# we have to make "
   ]
  },
  {
   "cell_type": "markdown",
   "metadata": {},
   "source": [
    "Adding complexity..."
   ]
  },
  {
   "cell_type": "code",
   "execution_count": 6,
   "metadata": {},
   "outputs": [
    {
     "name": "stdout",
     "output_type": "stream",
     "text": [
      "4.0\n"
     ]
    }
   ],
   "source": [
    "a = 2.0\n",
    "b = -3.0\n",
    "c = 10.0\n",
    "d = a * b + c\n",
    "print(d)"
   ]
  },
  {
   "cell_type": "code",
   "execution_count": 7,
   "metadata": {},
   "outputs": [],
   "source": [
    "# Utility fn to print\n",
    "\n",
    "from typing import Dict, Any\n",
    "\n",
    "\n",
    "def p(obj: Any, indent: int = 0):\n",
    "    if not isinstance(obj, Dict):\n",
    "        print(\" \" * indent, obj)\n",
    "        return\n",
    "\n",
    "    max_len = max([len(k) for k in obj.keys()]) + 1\n",
    "    for k, v in obj.items():\n",
    "        print(f\"{' ' * indent}{(k+':').ljust(max_len)}\", end=\" \")\n",
    "        if isinstance(v, Dict):\n",
    "            print()\n",
    "            p(v, indent + 2)\n",
    "        else:\n",
    "            print(v)"
   ]
  },
  {
   "cell_type": "markdown",
   "metadata": {},
   "source": [
    "Finding the derivative of a function with multiple inputs:\n",
    "\n",
    "We find the derivative of $d$ w.r.t $a, b, c$ by taking the partial derivative of $d$ w.r.t each input."
   ]
  },
  {
   "cell_type": "code",
   "execution_count": 8,
   "metadata": {},
   "outputs": [
    {
     "name": "stdout",
     "output_type": "stream",
     "text": [
      "f(a, b, c): 4.0\n",
      "Slopes:     \n",
      "  Slope (a): -3.000000000010772\n",
      "  Slope (b): 2.0000000000042206\n",
      "  Slope (c): 0.9999999999976694\n"
     ]
    }
   ],
   "source": [
    "h = 0.0001\n",
    "\n",
    "# inputs\n",
    "a = 2.0\n",
    "b = -3.0\n",
    "c = 10.0\n",
    "\n",
    "\n",
    "def f(a, b, c):\n",
    "    return a * b + c\n",
    "\n",
    "\n",
    "def df_da(a, b, c, h):\n",
    "    \"\"\"\n",
    "    Calculates the slope of d with respect to a, that is, the partial derivative of d with respect to a.\n",
    "    Found by increasing a by a small amount, h, and seeing how much d changes, while keeping the other variables constant. Then normalizing by h to get the slope.\n",
    "    \"\"\"\n",
    "    return (f(a + h, b, c) - f(a, b, c)) / h\n",
    "\n",
    "\n",
    "def df_db(a, b, c, h):\n",
    "    return (f(a, b + h, c) - f(a, b, c)) / h\n",
    "\n",
    "\n",
    "def df_dc(a, b, c, h):\n",
    "    return (f(a, b, c + h) - f(a, b, c)) / h\n",
    "\n",
    "\n",
    "p(\n",
    "    {\n",
    "        \"f(a, b, c)\": f(a, b, c),\n",
    "        \"Slopes\": {\n",
    "            \"Slope (a)\": df_da(a, b, c, h),\n",
    "            \"Slope (b)\": df_db(a, b, c, h),\n",
    "            \"Slope (c)\": df_dc(a, b, c, h),\n",
    "        },\n",
    "    }\n",
    ")"
   ]
  },
  {
   "cell_type": "markdown",
   "metadata": {},
   "source": [
    "## Moving to Neural Networks\n",
    "\n",
    "Neural networks are a series of functions composed together. That makes them rather large expressions.\n",
    "That's why we use data structures to represent them."
   ]
  },
  {
   "cell_type": "code",
   "execution_count": 9,
   "metadata": {},
   "outputs": [],
   "source": [
    "from typing import Tuple, Set\n",
    "\n",
    "\n",
    "class Value:\n",
    "    def __init__(self, data, _children: Tuple = (), _op: str = \"\", label: str = \"\"):\n",
    "        self.data = data\n",
    "        self.grad = (\n",
    "            0.0  # by default the gradient is 0: we assume it doesn't affect the output.\n",
    "        )\n",
    "        self._backward = (\n",
    "            lambda: None\n",
    "        )  # function that uses the chain rule to calculate the gradient\n",
    "        self._prev: Set[Value] = set(_children)\n",
    "        self._op: str = _op\n",
    "        self.label = label\n",
    "\n",
    "    def __repr__(self):\n",
    "        return f\"Value(data={self.data}, grad={self.grad})\"\n",
    "\n",
    "    def __add__(self, other):\n",
    "        other = other if isinstance(other, Value) else Value(other)\n",
    "        out = Value(self.data + other.data, (self, other), \"+\")\n",
    "\n",
    "        def _backward():\n",
    "            self.grad += out.grad\n",
    "            other.grad += out.grad\n",
    "\n",
    "        out._backward = _backward\n",
    "        return out\n",
    "\n",
    "    def __mul__(self, other):\n",
    "        other = other if isinstance(other, Value) else Value(other)\n",
    "        out = Value(self.data * other.data, (self, other), \"*\")\n",
    "\n",
    "        def _backward():\n",
    "            self.grad += other.data * out.grad\n",
    "            other.grad += self.data * out.grad\n",
    "\n",
    "        out._backward = _backward\n",
    "\n",
    "        return out\n",
    "\n",
    "    def __pow__(self, other):\n",
    "        assert isinstance(other, (int, float)), \"only supporting int/float for now\"\n",
    "        out = Value(self.data**other, (self,), f\"**{other}\")\n",
    "\n",
    "        def _backward():\n",
    "            self.grad += (other * self.data ** (other - 1)) * out.grad\n",
    "\n",
    "        out._backward = _backward\n",
    "\n",
    "        return out\n",
    "\n",
    "    def __truediv__(self, other):\n",
    "        return self * other**-1\n",
    "\n",
    "    def __rtruediv__(self, other):\n",
    "        return other * self**-1\n",
    "\n",
    "    def __rmul__(self, other):\n",
    "        return self * other\n",
    "\n",
    "    def __neg__(self):\n",
    "        return self * -1\n",
    "\n",
    "    def __sub__(self, other):\n",
    "        return self + (-other)\n",
    "\n",
    "    def __rsub__(self, other):\n",
    "        return other + (-self)\n",
    "\n",
    "    def __radd__(self, other):\n",
    "        return self + other\n",
    "\n",
    "    def tanh(self):\n",
    "        x = self.data\n",
    "        t = (math.exp(2 * x) - 1) / (math.exp(2 * x) + 1)\n",
    "        out = Value(t, (self,), \"tanh\")\n",
    "\n",
    "        def _backward():\n",
    "            self.grad += (1 - t**2) * out.grad\n",
    "\n",
    "        out._backward = _backward\n",
    "\n",
    "        return out\n",
    "\n",
    "    def relu(self):\n",
    "        out = Value(0 if self.data < 0 else self.data, (self,), \"ReLU\")\n",
    "\n",
    "        def _backward():\n",
    "            self.grad += (out.data > 0) * out.grad\n",
    "\n",
    "        out._backward = _backward\n",
    "\n",
    "        return out\n",
    "\n",
    "    def backward(self):\n",
    "        topo = []\n",
    "        visited = set()\n",
    "\n",
    "        def build_topo(v: Value):\n",
    "            if v not in visited:\n",
    "                visited.add(v)\n",
    "                for child in v._prev:\n",
    "                    build_topo(child)\n",
    "                topo.append(v)\n",
    "\n",
    "        build_topo(self)\n",
    "\n",
    "        self.grad = 1.0\n",
    "        for v in reversed(topo):\n",
    "            v._backward()"
   ]
  },
  {
   "cell_type": "code",
   "execution_count": 10,
   "metadata": {},
   "outputs": [],
   "source": [
    "from graphviz import Digraph\n",
    "\n",
    "\n",
    "def trace(root: Value):\n",
    "    # builds a set of all nodes and edges in a graph\n",
    "    nodes, edges = set(), set()\n",
    "\n",
    "    def build(v):\n",
    "        if v not in nodes:\n",
    "            nodes.add(v)\n",
    "            for child in v._prev:\n",
    "                edges.add((child, v))\n",
    "                build(child)\n",
    "\n",
    "    build(root)\n",
    "    return nodes, edges\n",
    "\n",
    "\n",
    "def uid(n: Value):\n",
    "    return str(id(n))\n",
    "\n",
    "\n",
    "def draw_dot(root: Value):\n",
    "    dot = Digraph(format=\"svg\", graph_attr={\"rankdir\": \"LR\"})  # left to right\n",
    "\n",
    "    nodes, edges = trace(root)\n",
    "    for n in nodes:\n",
    "        n_uid = uid(n)\n",
    "        # create rectangular node for each value\n",
    "        dot.node(name=n_uid, label=\"{ %s |data %.4f | grad %.4f }\" % (n.label, n.data, n.grad, ), shape=\"record\")\n",
    "\n",
    "        # if the node has an operation, create a node for the operation and link it to the value node\n",
    "        if n._op:\n",
    "            dot.node(name=n_uid + n._op, label=n._op)\n",
    "            dot.edge(n_uid + n._op, n_uid)\n",
    "\n",
    "    for n1, n2 in edges:\n",
    "        n1_uid, n2_uid = map(uid, (n1, n2))\n",
    "        dot.edge(n1_uid, n2_uid + n2._op)\n",
    "\n",
    "    return dot"
   ]
  },
  {
   "cell_type": "markdown",
   "metadata": {},
   "source": [
    "### Adding backpropagation\n",
    "\n",
    "We'll start at the end (L in our case) and reverse: we calculate the gradients along the intermediate values.\n",
    "That is, we compute the derivative of a given node with respect to the output node (L) and then move backwards.\n",
    "E.g. what is the derivative of L w.r.t $d$, or $f$, $e$, $c$, $b$, $a$?\n",
    "\n",
    "$L$ would represent the loss function, and the other nodes would represent the weights of the network.\n",
    "So we're calculating the derivative of the loss function w.r.t the weights.\n",
    "\n",
    "We're using the chain rule to calculate the derivative of the loss function w.r.t the weights.\n",
    "The chain rule tells us how to calculate the derivative of a function composed of other functions.\n",
    "This is really important, because a neural network is basically a long composition of functions.\n",
    "\n",
    "**Example: finding the derivative of $L$ w.r.t $c$**\n",
    "$$\n",
    "\\frac{\\partial L}{\\partial c} = \\frac{\\partial L}{\\partial d} \\cdot \\frac{\\partial d}{\\partial c}\n",
    "$$\n",
    "\n",
    "**Rules**\n",
    "- For 'plus' nodes, the derivative is 1 w.r.t the input that is being differentiated. If you have $e=a+b$, then $\\frac{\\partial e}{\\partial a}=1$ and $\\frac{\\partial e}{\\partial b}=1$.\n",
    "- And for 'times' nodes, the derivative is the value of the other input. If you have $e=a*b$, then $\\frac{\\partial e}{\\partial a}=b$ and $\\frac{\\partial e}{\\partial b}=a$.\n",
    "- For the 'loss' (final) node, the derivative is 1 w.r.t itself.\n",
    "\n",
    "**So the gradients in our graph:**\n",
    "- $L=1$ because of the rule above\n",
    "- $d=-2$ because `f.data`=$-2$\n",
    "- $f=4$ because `e.data`=$4$\n",
    "- $e=-2*1=-2$ because `c.grad=-2` and `e` is in a plus node\n",
    "- $c=-2*1=-2$ because `c.grad=-2` and `c` is in a plus node\n",
    "- $b=-2*2=-4$ because `e.grad=-2` and `b` is in a times node, so its local gradient is $2$ from the other input nodes value\n",
    "- $a=-2*-3=6$ because `e.grad=-2` and `a` is in a times node, so its local gradient is $-3$ from the other input nodes value\n",
    "\n",
    "To make $L$ increase, we increase the weights by the gradients times a learning rate.\n",
    "Recall: if we want $L$ to increase, `.grad` tells us how to change the weights to make that happen.\n",
    "\n",
    "### Neurons\n",
    "A neuron takes some inputs $x$ and multiplies them by some weights $w$ and adds a bias $b$. The bias is like how 'trigger-happy' the neuron is.\n",
    "That is the dot product of the inputs and weights plus the bias:\n",
    "$$\n",
    "\\sum_{i=1}^{n} w_i x_i + b\n",
    "$$\n",
    "The cell body then applies an activation function to the sum of the inputs. This is usually some squashing function, like sigmoid or tanh."
   ]
  },
  {
   "cell_type": "markdown",
   "metadata": {},
   "source": [
    "### tanh\n",
    "\n",
    "The plot below shows the tanh function. It squashes the input to the range $[-1, 1]$.\n",
    "\n",
    "At 0, you get exactly 0.\n",
    "We cap very positive inputs smoothly at 1.\n",
    "And we cap very negative inputs smoothly at -1.\n",
    "\n",
    "The local derivative of tanh is $1 - \\text{tanh}^2(x)$."
   ]
  },
  {
   "cell_type": "code",
   "execution_count": 11,
   "metadata": {},
   "outputs": [
    {
     "data": {
      "image/png": "[encoded data removed]",
      "text/plain": [
       "<Figure size 640x480 with 1 Axes>"
      ]
     },
     "metadata": {},
     "output_type": "display_data"
    }
   ],
   "source": [
    "plt.plot(np.arange(-5, 5, 0.2), np.tanh(np.arange(-5, 5, 0.2)))\n",
    "plt.grid()"
   ]
  },
  {
   "cell_type": "code",
   "execution_count": 12,
   "metadata": {},
   "outputs": [
    {
     "data": {
      "image/svg+xml": [
       "<?xml version=\"1.0\" encoding=\"UTF-8\" standalone=\"no\"?>\n",
       "<!DOCTYPE svg PUBLIC \"-//W3C//DTD SVG 1.1//EN\"\n",
       " \"http://www.w3.org/Graphics/SVG/1.1/DTD/svg11.dtd\">\n",
       "<!-- Generated by graphviz version 2.43.0 (0)\n",
       " -->\n",
       "<!-- Title: %3 Pages: 1 -->\n",
       "<svg width=\"1864pt\" height=\"210pt\"\n",
       " viewBox=\"0.00 0.00 1863.69 210.00\" xmlns=\"http://www.w3.org/2000/svg\" xmlns:xlink=\"http://www.w3.org/1999/xlink\">\n",
       "<g id=\"graph0\" class=\"graph\" transform=\"scale(1 1) rotate(0) translate(4 206)\">\n",
       "<title>%3</title>\n",
       "<polygon fill=\"white\" stroke=\"transparent\" points=\"-4,4 -4,-206 1859.69,-206 1859.69,4 -4,4\"/>\n",
       "<!-- 140213330682480 -->\n",
       "<g id=\"node1\" class=\"node\">\n",
       "<title>140213330682480</title>\n",
       "<polygon fill=\"none\" stroke=\"black\" points=\"2.5,-165.5 2.5,-201.5 246.5,-201.5 246.5,-165.5 2.5,-165.5\"/>\n",
       "<text text-anchor=\"middle\" x=\"19.5\" y=\"-179.8\" font-family=\"Times,serif\" font-size=\"14.00\">x1</text>\n",
       "<polyline fill=\"none\" stroke=\"black\" points=\"36.5,-165.5 36.5,-201.5 \"/>\n",
       "<text text-anchor=\"middle\" x=\"87.5\" y=\"-179.8\" font-family=\"Times,serif\" font-size=\"14.00\">data 2.0000</text>\n",
       "<polyline fill=\"none\" stroke=\"black\" points=\"138.5,-165.5 138.5,-201.5 \"/>\n",
       "<text text-anchor=\"middle\" x=\"192.5\" y=\"-179.8\" font-family=\"Times,serif\" font-size=\"14.00\">grad &#45;1.5000</text>\n",
       "</g>\n",
       "<!-- 140213329916704* -->\n",
       "<g id=\"node9\" class=\"node\">\n",
       "<title>140213329916704*</title>\n",
       "<ellipse fill=\"none\" stroke=\"black\" cx=\"312\" cy=\"-128.5\" rx=\"27\" ry=\"18\"/>\n",
       "<text text-anchor=\"middle\" x=\"312\" y=\"-124.8\" font-family=\"Times,serif\" font-size=\"14.00\">*</text>\n",
       "</g>\n",
       "<!-- 140213330682480&#45;&gt;140213329916704* -->\n",
       "<g id=\"edge11\" class=\"edge\">\n",
       "<title>140213330682480&#45;&gt;140213329916704*</title>\n",
       "<path fill=\"none\" stroke=\"black\" d=\"M218.13,-165.46C228.63,-162.77 239.1,-159.78 249,-156.5 259.71,-152.96 271.05,-148.16 281.07,-143.54\"/>\n",
       "<polygon fill=\"black\" stroke=\"black\" points=\"282.67,-146.66 290.2,-139.21 279.67,-140.33 282.67,-146.66\"/>\n",
       "</g>\n",
       "<!-- 140213330951824 -->\n",
       "<g id=\"node2\" class=\"node\">\n",
       "<title>140213330951824</title>\n",
       "<polygon fill=\"none\" stroke=\"black\" points=\"2.5,-55.5 2.5,-91.5 246.5,-91.5 246.5,-55.5 2.5,-55.5\"/>\n",
       "<text text-anchor=\"middle\" x=\"21.5\" y=\"-69.8\" font-family=\"Times,serif\" font-size=\"14.00\">w2</text>\n",
       "<polyline fill=\"none\" stroke=\"black\" points=\"40.5,-55.5 40.5,-91.5 \"/>\n",
       "<text text-anchor=\"middle\" x=\"91.5\" y=\"-69.8\" font-family=\"Times,serif\" font-size=\"14.00\">data 1.0000</text>\n",
       "<polyline fill=\"none\" stroke=\"black\" points=\"142.5,-55.5 142.5,-91.5 \"/>\n",
       "<text text-anchor=\"middle\" x=\"194.5\" y=\"-69.8\" font-family=\"Times,serif\" font-size=\"14.00\">grad 0.0000</text>\n",
       "</g>\n",
       "<!-- 140213328131280* -->\n",
       "<g id=\"node7\" class=\"node\">\n",
       "<title>140213328131280*</title>\n",
       "<ellipse fill=\"none\" stroke=\"black\" cx=\"312\" cy=\"-73.5\" rx=\"27\" ry=\"18\"/>\n",
       "<text text-anchor=\"middle\" x=\"312\" y=\"-69.8\" font-family=\"Times,serif\" font-size=\"14.00\">*</text>\n",
       "</g>\n",
       "<!-- 140213330951824&#45;&gt;140213328131280* -->\n",
       "<g id=\"edge12\" class=\"edge\">\n",
       "<title>140213330951824&#45;&gt;140213328131280*</title>\n",
       "<path fill=\"none\" stroke=\"black\" d=\"M246.64,-73.5C256.7,-73.5 266.26,-73.5 274.79,-73.5\"/>\n",
       "<polygon fill=\"black\" stroke=\"black\" points=\"275,-77 285,-73.5 275,-70 275,-77\"/>\n",
       "</g>\n",
       "<!-- 140213330949808 -->\n",
       "<g id=\"node3\" class=\"node\">\n",
       "<title>140213330949808</title>\n",
       "<polygon fill=\"none\" stroke=\"black\" points=\"4.5,-0.5 4.5,-36.5 244.5,-36.5 244.5,-0.5 4.5,-0.5\"/>\n",
       "<text text-anchor=\"middle\" x=\"21.5\" y=\"-14.8\" font-family=\"Times,serif\" font-size=\"14.00\">x2</text>\n",
       "<polyline fill=\"none\" stroke=\"black\" points=\"38.5,-0.5 38.5,-36.5 \"/>\n",
       "<text text-anchor=\"middle\" x=\"89.5\" y=\"-14.8\" font-family=\"Times,serif\" font-size=\"14.00\">data 0.0000</text>\n",
       "<polyline fill=\"none\" stroke=\"black\" points=\"140.5,-0.5 140.5,-36.5 \"/>\n",
       "<text text-anchor=\"middle\" x=\"192.5\" y=\"-14.8\" font-family=\"Times,serif\" font-size=\"14.00\">grad 0.5000</text>\n",
       "</g>\n",
       "<!-- 140213330949808&#45;&gt;140213328131280* -->\n",
       "<g id=\"edge7\" class=\"edge\">\n",
       "<title>140213330949808&#45;&gt;140213328131280*</title>\n",
       "<path fill=\"none\" stroke=\"black\" d=\"M214.42,-36.55C226.15,-39.54 237.93,-42.87 249,-46.5 259.46,-49.93 270.57,-54.47 280.46,-58.84\"/>\n",
       "<polygon fill=\"black\" stroke=\"black\" points=\"279.31,-62.17 289.87,-63.12 282.21,-55.79 279.31,-62.17\"/>\n",
       "</g>\n",
       "<!-- 140213328129744 -->\n",
       "<g id=\"node4\" class=\"node\">\n",
       "<title>140213328129744</title>\n",
       "<polygon fill=\"none\" stroke=\"black\" points=\"1218,-54.5 1218,-90.5 1450,-90.5 1450,-54.5 1218,-54.5\"/>\n",
       "<text text-anchor=\"middle\" x=\"1231\" y=\"-68.8\" font-family=\"Times,serif\" font-size=\"14.00\">n</text>\n",
       "<polyline fill=\"none\" stroke=\"black\" points=\"1244,-54.5 1244,-90.5 \"/>\n",
       "<text text-anchor=\"middle\" x=\"1295\" y=\"-68.8\" font-family=\"Times,serif\" font-size=\"14.00\">data 0.8814</text>\n",
       "<polyline fill=\"none\" stroke=\"black\" points=\"1346,-54.5 1346,-90.5 \"/>\n",
       "<text text-anchor=\"middle\" x=\"1398\" y=\"-68.8\" font-family=\"Times,serif\" font-size=\"14.00\">grad 0.5000</text>\n",
       "</g>\n",
       "<!-- 140213328129408tanh -->\n",
       "<g id=\"node13\" class=\"node\">\n",
       "<title>140213328129408tanh</title>\n",
       "<ellipse fill=\"none\" stroke=\"black\" cx=\"1517.85\" cy=\"-72.5\" rx=\"31.7\" ry=\"18\"/>\n",
       "<text text-anchor=\"middle\" x=\"1517.85\" y=\"-68.8\" font-family=\"Times,serif\" font-size=\"14.00\">tanh</text>\n",
       "</g>\n",
       "<!-- 140213328129744&#45;&gt;140213328129408tanh -->\n",
       "<g id=\"edge13\" class=\"edge\">\n",
       "<title>140213328129744&#45;&gt;140213328129408tanh</title>\n",
       "<path fill=\"none\" stroke=\"black\" d=\"M1450.17,-72.5C1459.08,-72.5 1467.66,-72.5 1475.53,-72.5\"/>\n",
       "<polygon fill=\"black\" stroke=\"black\" points=\"1475.78,-76 1485.78,-72.5 1475.78,-69 1475.78,-76\"/>\n",
       "</g>\n",
       "<!-- 140213328129744+ -->\n",
       "<g id=\"node5\" class=\"node\">\n",
       "<title>140213328129744+</title>\n",
       "<ellipse fill=\"none\" stroke=\"black\" cx=\"1155\" cy=\"-72.5\" rx=\"27\" ry=\"18\"/>\n",
       "<text text-anchor=\"middle\" x=\"1155\" y=\"-68.8\" font-family=\"Times,serif\" font-size=\"14.00\">+</text>\n",
       "</g>\n",
       "<!-- 140213328129744+&#45;&gt;140213328129744 -->\n",
       "<g id=\"edge1\" class=\"edge\">\n",
       "<title>140213328129744+&#45;&gt;140213328129744</title>\n",
       "<path fill=\"none\" stroke=\"black\" d=\"M1182.12,-72.5C1189.53,-72.5 1198.14,-72.5 1207.4,-72.5\"/>\n",
       "<polygon fill=\"black\" stroke=\"black\" points=\"1207.69,-76 1217.69,-72.5 1207.69,-69 1207.69,-76\"/>\n",
       "</g>\n",
       "<!-- 140213328131280 -->\n",
       "<g id=\"node6\" class=\"node\">\n",
       "<title>140213328131280</title>\n",
       "<polygon fill=\"none\" stroke=\"black\" points=\"377.5,-55.5 377.5,-91.5 638.5,-91.5 638.5,-55.5 377.5,-55.5\"/>\n",
       "<text text-anchor=\"middle\" x=\"405\" y=\"-69.8\" font-family=\"Times,serif\" font-size=\"14.00\">x2w2</text>\n",
       "<polyline fill=\"none\" stroke=\"black\" points=\"432.5,-55.5 432.5,-91.5 \"/>\n",
       "<text text-anchor=\"middle\" x=\"483.5\" y=\"-69.8\" font-family=\"Times,serif\" font-size=\"14.00\">data 0.0000</text>\n",
       "<polyline fill=\"none\" stroke=\"black\" points=\"534.5,-55.5 534.5,-91.5 \"/>\n",
       "<text text-anchor=\"middle\" x=\"586.5\" y=\"-69.8\" font-family=\"Times,serif\" font-size=\"14.00\">grad 0.5000</text>\n",
       "</g>\n",
       "<!-- 140213328130368+ -->\n",
       "<g id=\"node11\" class=\"node\">\n",
       "<title>140213328130368+</title>\n",
       "<ellipse fill=\"none\" stroke=\"black\" cx=\"704\" cy=\"-100.5\" rx=\"27\" ry=\"18\"/>\n",
       "<text text-anchor=\"middle\" x=\"704\" y=\"-96.8\" font-family=\"Times,serif\" font-size=\"14.00\">+</text>\n",
       "</g>\n",
       "<!-- 140213328131280&#45;&gt;140213328130368+ -->\n",
       "<g id=\"edge14\" class=\"edge\">\n",
       "<title>140213328131280&#45;&gt;140213328130368+</title>\n",
       "<path fill=\"none\" stroke=\"black\" d=\"M638.4,-91.51C648.78,-92.95 658.6,-94.32 667.3,-95.53\"/>\n",
       "<polygon fill=\"black\" stroke=\"black\" points=\"666.94,-99.01 677.32,-96.93 667.9,-92.08 666.94,-99.01\"/>\n",
       "</g>\n",
       "<!-- 140213328131280*&#45;&gt;140213328131280 -->\n",
       "<g id=\"edge2\" class=\"edge\">\n",
       "<title>140213328131280*&#45;&gt;140213328131280</title>\n",
       "<path fill=\"none\" stroke=\"black\" d=\"M339.16,-73.5C347.24,-73.5 356.75,-73.5 367.07,-73.5\"/>\n",
       "<polygon fill=\"black\" stroke=\"black\" points=\"367.2,-77 377.2,-73.5 367.2,-70 367.2,-77\"/>\n",
       "</g>\n",
       "<!-- 140213329916704 -->\n",
       "<g id=\"node8\" class=\"node\">\n",
       "<title>140213329916704</title>\n",
       "<polygon fill=\"none\" stroke=\"black\" points=\"375,-110.5 375,-146.5 641,-146.5 641,-110.5 375,-110.5\"/>\n",
       "<text text-anchor=\"middle\" x=\"402.5\" y=\"-124.8\" font-family=\"Times,serif\" font-size=\"14.00\">x1w1</text>\n",
       "<polyline fill=\"none\" stroke=\"black\" points=\"430,-110.5 430,-146.5 \"/>\n",
       "<text text-anchor=\"middle\" x=\"483.5\" y=\"-124.8\" font-family=\"Times,serif\" font-size=\"14.00\">data &#45;6.0000</text>\n",
       "<polyline fill=\"none\" stroke=\"black\" points=\"537,-110.5 537,-146.5 \"/>\n",
       "<text text-anchor=\"middle\" x=\"589\" y=\"-124.8\" font-family=\"Times,serif\" font-size=\"14.00\">grad 0.5000</text>\n",
       "</g>\n",
       "<!-- 140213329916704&#45;&gt;140213328130368+ -->\n",
       "<g id=\"edge6\" class=\"edge\">\n",
       "<title>140213329916704&#45;&gt;140213328130368+</title>\n",
       "<path fill=\"none\" stroke=\"black\" d=\"M633.78,-110.49C645.77,-108.76 657.15,-107.12 667.08,-105.68\"/>\n",
       "<polygon fill=\"black\" stroke=\"black\" points=\"667.86,-109.11 677.25,-104.22 666.86,-102.18 667.86,-109.11\"/>\n",
       "</g>\n",
       "<!-- 140213329916704*&#45;&gt;140213329916704 -->\n",
       "<g id=\"edge3\" class=\"edge\">\n",
       "<title>140213329916704*&#45;&gt;140213329916704</title>\n",
       "<path fill=\"none\" stroke=\"black\" d=\"M339.16,-128.5C346.61,-128.5 355.28,-128.5 364.68,-128.5\"/>\n",
       "<polygon fill=\"black\" stroke=\"black\" points=\"364.73,-132 374.73,-128.5 364.73,-125 364.73,-132\"/>\n",
       "</g>\n",
       "<!-- 140213328130368 -->\n",
       "<g id=\"node10\" class=\"node\">\n",
       "<title>140213328130368</title>\n",
       "<polygon fill=\"none\" stroke=\"black\" points=\"767,-82.5 767,-118.5 1092,-118.5 1092,-82.5 767,-82.5\"/>\n",
       "<text text-anchor=\"middle\" x=\"824\" y=\"-96.8\" font-family=\"Times,serif\" font-size=\"14.00\">x1w1 + x2w2</text>\n",
       "<polyline fill=\"none\" stroke=\"black\" points=\"881,-82.5 881,-118.5 \"/>\n",
       "<text text-anchor=\"middle\" x=\"934.5\" y=\"-96.8\" font-family=\"Times,serif\" font-size=\"14.00\">data &#45;6.0000</text>\n",
       "<polyline fill=\"none\" stroke=\"black\" points=\"988,-82.5 988,-118.5 \"/>\n",
       "<text text-anchor=\"middle\" x=\"1040\" y=\"-96.8\" font-family=\"Times,serif\" font-size=\"14.00\">grad 0.5000</text>\n",
       "</g>\n",
       "<!-- 140213328130368&#45;&gt;140213328129744+ -->\n",
       "<g id=\"edge9\" class=\"edge\">\n",
       "<title>140213328130368&#45;&gt;140213328129744+</title>\n",
       "<path fill=\"none\" stroke=\"black\" d=\"M1074.26,-82.49C1090.41,-80.47 1105.59,-78.56 1118.28,-76.97\"/>\n",
       "<polygon fill=\"black\" stroke=\"black\" points=\"1118.84,-80.43 1128.32,-75.72 1117.96,-73.49 1118.84,-80.43\"/>\n",
       "</g>\n",
       "<!-- 140213328130368+&#45;&gt;140213328130368 -->\n",
       "<g id=\"edge4\" class=\"edge\">\n",
       "<title>140213328130368+&#45;&gt;140213328130368</title>\n",
       "<path fill=\"none\" stroke=\"black\" d=\"M731.08,-100.5C738.51,-100.5 747.21,-100.5 756.74,-100.5\"/>\n",
       "<polygon fill=\"black\" stroke=\"black\" points=\"756.95,-104 766.95,-100.5 756.95,-97 756.95,-104\"/>\n",
       "</g>\n",
       "<!-- 140213328129408 -->\n",
       "<g id=\"node12\" class=\"node\">\n",
       "<title>140213328129408</title>\n",
       "<polygon fill=\"none\" stroke=\"black\" points=\"1585.69,-54.5 1585.69,-90.5 1855.69,-90.5 1855.69,-54.5 1585.69,-54.5\"/>\n",
       "<text text-anchor=\"middle\" x=\"1617.69\" y=\"-68.8\" font-family=\"Times,serif\" font-size=\"14.00\">output</text>\n",
       "<polyline fill=\"none\" stroke=\"black\" points=\"1649.69,-54.5 1649.69,-90.5 \"/>\n",
       "<text text-anchor=\"middle\" x=\"1700.69\" y=\"-68.8\" font-family=\"Times,serif\" font-size=\"14.00\">data 0.7071</text>\n",
       "<polyline fill=\"none\" stroke=\"black\" points=\"1751.69,-54.5 1751.69,-90.5 \"/>\n",
       "<text text-anchor=\"middle\" x=\"1803.69\" y=\"-68.8\" font-family=\"Times,serif\" font-size=\"14.00\">grad 1.0000</text>\n",
       "</g>\n",
       "<!-- 140213328129408tanh&#45;&gt;140213328129408 -->\n",
       "<g id=\"edge5\" class=\"edge\">\n",
       "<title>140213328129408tanh&#45;&gt;140213328129408</title>\n",
       "<path fill=\"none\" stroke=\"black\" d=\"M1549.79,-72.5C1557.39,-72.5 1566.02,-72.5 1575.28,-72.5\"/>\n",
       "<polygon fill=\"black\" stroke=\"black\" points=\"1575.55,-76 1585.55,-72.5 1575.55,-69 1575.55,-76\"/>\n",
       "</g>\n",
       "<!-- 140213329918864 -->\n",
       "<g id=\"node14\" class=\"node\">\n",
       "<title>140213329918864</title>\n",
       "<polygon fill=\"none\" stroke=\"black\" points=\"813.5,-27.5 813.5,-63.5 1045.5,-63.5 1045.5,-27.5 813.5,-27.5\"/>\n",
       "<text text-anchor=\"middle\" x=\"826.5\" y=\"-41.8\" font-family=\"Times,serif\" font-size=\"14.00\">b</text>\n",
       "<polyline fill=\"none\" stroke=\"black\" points=\"839.5,-27.5 839.5,-63.5 \"/>\n",
       "<text text-anchor=\"middle\" x=\"890.5\" y=\"-41.8\" font-family=\"Times,serif\" font-size=\"14.00\">data 6.8814</text>\n",
       "<polyline fill=\"none\" stroke=\"black\" points=\"941.5,-27.5 941.5,-63.5 \"/>\n",
       "<text text-anchor=\"middle\" x=\"993.5\" y=\"-41.8\" font-family=\"Times,serif\" font-size=\"14.00\">grad 0.5000</text>\n",
       "</g>\n",
       "<!-- 140213329918864&#45;&gt;140213328129744+ -->\n",
       "<g id=\"edge10\" class=\"edge\">\n",
       "<title>140213329918864&#45;&gt;140213328129744+</title>\n",
       "<path fill=\"none\" stroke=\"black\" d=\"M1045.52,-59.4C1071.82,-62.57 1097.87,-65.72 1117.85,-68.13\"/>\n",
       "<polygon fill=\"black\" stroke=\"black\" points=\"1117.65,-71.63 1128,-69.36 1118.49,-64.68 1117.65,-71.63\"/>\n",
       "</g>\n",
       "<!-- 140213330938816 -->\n",
       "<g id=\"node15\" class=\"node\">\n",
       "<title>140213330938816</title>\n",
       "<polygon fill=\"none\" stroke=\"black\" points=\"0,-110.5 0,-146.5 249,-146.5 249,-110.5 0,-110.5\"/>\n",
       "<text text-anchor=\"middle\" x=\"19\" y=\"-124.8\" font-family=\"Times,serif\" font-size=\"14.00\">w1</text>\n",
       "<polyline fill=\"none\" stroke=\"black\" points=\"38,-110.5 38,-146.5 \"/>\n",
       "<text text-anchor=\"middle\" x=\"91.5\" y=\"-124.8\" font-family=\"Times,serif\" font-size=\"14.00\">data &#45;3.0000</text>\n",
       "<polyline fill=\"none\" stroke=\"black\" points=\"145,-110.5 145,-146.5 \"/>\n",
       "<text text-anchor=\"middle\" x=\"197\" y=\"-124.8\" font-family=\"Times,serif\" font-size=\"14.00\">grad 1.0000</text>\n",
       "</g>\n",
       "<!-- 140213330938816&#45;&gt;140213329916704* -->\n",
       "<g id=\"edge8\" class=\"edge\">\n",
       "<title>140213330938816&#45;&gt;140213329916704*</title>\n",
       "<path fill=\"none\" stroke=\"black\" d=\"M249.23,-128.5C258.37,-128.5 267.05,-128.5 274.87,-128.5\"/>\n",
       "<polygon fill=\"black\" stroke=\"black\" points=\"274.95,-132 284.95,-128.5 274.95,-125 274.95,-132\"/>\n",
       "</g>\n",
       "</g>\n",
       "</svg>\n"
      ],
      "text/plain": [
       "<graphviz.graphs.Digraph at 0x7f85f5ad8860>"
      ]
     },
     "execution_count": 12,
     "metadata": {},
     "output_type": "execute_result"
    }
   ],
   "source": [
    "# inputs - 2d neuron\n",
    "x1 = Value(2.0, label=\"x1\")\n",
    "x2 = Value(0.0, label=\"x2\")\n",
    "\n",
    "# weights - like the synaptic strings for each input\n",
    "w1 = Value(-3.0, label=\"w1\")\n",
    "w2 = Value(1.0, label=\"w2\")\n",
    "\n",
    "# bias\n",
    "b = Value(6.8813735870195432, label=\"b\")\n",
    "\n",
    "# x1w1 + x2w2 + b\n",
    "x1w1 = x1 * w1\n",
    "x1w1.label = \"x1w1\"\n",
    "x2w2 = x2 * w2\n",
    "x2w2.label = \"x2w2\"\n",
    "x1w1x2w2 = x1w1 + x2w2\n",
    "x1w1x2w2.label = \"x1w1 + x2w2\"\n",
    "n = x1w1x2w2 + b\n",
    "n.label = \"n\"  # the output of the neuron without the activation function\n",
    "\n",
    "output = n.tanh()\n",
    "output.label = \"output\"\n",
    "\n",
    "output.backward()\n",
    "\n",
    "draw_dot(output)"
   ]
  },
  {
   "cell_type": "markdown",
   "metadata": {},
   "source": [
    "Since we need to call `._backward()` on all nodes, it's necessary for them to be topologically sorted.\n",
    "\n",
    "This means that the nodes are sorted in the order that they need to be computed. We can't compute the derivative of a node until we've computed the derivatives of all its children.\n",
    "\n",
    "Topological sorting is a way to lay out the graph such that edges only go from left to right.\n",
    "\n",
    "```python\n",
    "topo = []\n",
    "visited = set()\n",
    "def build_topo(v: Value):\n",
    "    if v not in visited:\n",
    "        visited.add(v)\n",
    "        for child in v._prev:\n",
    "            build_topo(child)\n",
    "        topo.append(v) # only add itself after all children have been added\n",
    "\n",
    "build_topo(output)\n",
    "topo\n",
    "```"
   ]
  },
  {
   "cell_type": "markdown",
   "metadata": {},
   "source": [
    "It's important to handle the multivariate case of the chain rule. If a `Value` is used in multiple places in the graph, we need to sum the gradients from all the places it's used, not just take the last one.\n",
    "\n",
    "That's why we're using `+=` in the `_backward` methods."
   ]
  },
  {
   "cell_type": "markdown",
   "metadata": {},
   "source": [
    "## How to do the same thing but in Pytorch\n",
    "Micrograd is based on scalars, while PyTorch is based on tensors.\n",
    "Tensors are just multi-dimensional arrays of scalars."
   ]
  },
  {
   "cell_type": "code",
   "execution_count": 13,
   "metadata": {},
   "outputs": [
    {
     "name": "stdout",
     "output_type": "stream",
     "text": [
      "output:  0.7071066904050358\n",
      "x1.grad: -1.5000003851533106\n",
      "w1.grad: 1.0000002567688737\n",
      "x2.grad: 0.5000001283844369\n",
      "w2.grad: 0.0\n"
     ]
    }
   ],
   "source": [
    "import torch\n",
    "\n",
    "# Casting to double (float64) because that's what Python uses by default\n",
    "# Pytorch uses float32 as default so we have to cast to double\n",
    "\n",
    "# and we have to set requires_grad to True so that Pytorch keeps track of the gradients\n",
    "# they are leaf nodes, so by default they have no gradients\n",
    "\n",
    "# we use .item() to get the actual value of the tensor\n",
    "# because it's just a single value inside the tensor\n",
    "\n",
    "# pytorch is a lot more efficient than our Value class\n",
    "# partly because it uses tensors and can do lots of ops in parallel\n",
    "# (it's implemented in C++ and CUDA)\n",
    "\n",
    "x1 = torch.Tensor([2.0]).double()\n",
    "x1.requires_grad = True\n",
    "x2 = torch.Tensor([0.0]).double()\n",
    "x2.requires_grad = True\n",
    "\n",
    "w1 = torch.Tensor([-3.0]).double()\n",
    "w1.requires_grad = True\n",
    "w2 = torch.Tensor([1.0]).double()\n",
    "w2.requires_grad = True\n",
    "\n",
    "b = torch.Tensor([6.8813735870195432]).double()\n",
    "b.requires_grad = True\n",
    "\n",
    "n = x1 * w1 + x2 * w2 + b\n",
    "output = torch.tanh(n)\n",
    "\n",
    "output.backward()\n",
    "\n",
    "p({\n",
    "    \"output\": output.data.item(),\n",
    "    \"x1.grad\": x1.grad.item(),\n",
    "    \"w1.grad\": w1.grad.item(),\n",
    "    \"x2.grad\": x2.grad.item(),\n",
    "    \"w2.grad\": w2.grad.item(),\n",
    "})"
   ]
  },
  {
   "cell_type": "markdown",
   "metadata": {},
   "source": [
    "## Building a Neural Network\n",
    "The goal is a 2 layer MLP."
   ]
  },
  {
   "cell_type": "code",
   "execution_count": 14,
   "metadata": {},
   "outputs": [],
   "source": [
    "import random\n",
    "from typing import List\n",
    "\n",
    "\n",
    "class Neuron:\n",
    "    def __init__(self, nin: int):\n",
    "        self.w = [Value(random.uniform(-1, 1)) for _ in range(nin)]\n",
    "        self.b = Value(random.uniform(-1, 1))\n",
    "\n",
    "    def __call__(self, x):\n",
    "        # w.x+b\n",
    "        act = sum((wi * xi for wi, xi in zip(self.w, x)), start=self.b)\n",
    "        out = act.tanh()\n",
    "        return out\n",
    "\n",
    "    def parameters(self):\n",
    "        return self.w + [self.b]\n",
    "\n",
    "\n",
    "class Layer:\n",
    "    def __init__(self, nin: int, nout: int):\n",
    "        self.neurons = [Neuron(nin) for _ in range(nout)]\n",
    "\n",
    "    def __call__(self, x):\n",
    "        outs = [n(x) for n in self.neurons]\n",
    "        return outs[0] if len(outs) == 1 else outs\n",
    "    \n",
    "    def parameters(self):\n",
    "        return [p for n in self.neurons for p in n.parameters()]\n",
    "\n",
    "\n",
    "class MLP:\n",
    "    def __init__(self, nin: int, nouts: List[int]):\n",
    "        sz = [\n",
    "            nin\n",
    "        ] + nouts  # e.g. when we have nin=3 and nouts=[4, 4, 1], sz=[3, 4, 4, 1]\n",
    "        self.layers = [\n",
    "            Layer(sz[i], sz[i + 1]) for i in range(len(nouts))\n",
    "        ]  # create a layer for each pair of sizes\n",
    "        # e.g. create a layer for 3->4, 4->4, 4->1\n",
    "\n",
    "    def __call__(self, x):\n",
    "        for layer in self.layers:\n",
    "            x = layer(x)\n",
    "        return x\n",
    "    \n",
    "    def parameters(self):\n",
    "        return [p for layer in self.layers for p in layer.parameters()]"
   ]
  },
  {
   "cell_type": "code",
   "execution_count": 15,
   "metadata": {},
   "outputs": [
    {
     "data": {
      "text/plain": [
       "Value(data=-0.23528973269490824, grad=0.0)"
      ]
     },
     "execution_count": 15,
     "metadata": {},
     "output_type": "execute_result"
    }
   ],
   "source": [
    "x = [2.0, 3.0, -1.0]\n",
    "mlp = MLP(3, [4, 4, 1])\n",
    "mlp(x)"
   ]
  },
  {
   "cell_type": "code",
   "execution_count": 16,
   "metadata": {},
   "outputs": [],
   "source": [
    "# draw_dot(mlp(x))"
   ]
  },
  {
   "cell_type": "markdown",
   "metadata": {},
   "source": [
    "### Dataset"
   ]
  },
  {
   "cell_type": "code",
   "execution_count": 17,
   "metadata": {},
   "outputs": [],
   "source": [
    "xs = [\n",
    "    [2.0, 3.0, -1.0],\n",
    "    [3.0, -1.0, 0.5],\n",
    "    [0.5, 1.0, 1.0],\n",
    "    [1.0, 1.0, -1.0],\n",
    "]\n",
    "ys = [1.0, -1.0, -1.0, 1.0] # desired targets"
   ]
  },
  {
   "cell_type": "markdown",
   "metadata": {},
   "source": [
    "### Training\n",
    "Our initial predictions aren't very close to the actual values. We need to adjust the weights to make our predictions better.\n",
    "\n",
    "So how do we do that?\n",
    "\n",
    "We use the loss function to measure how far off our predictions are. We want to minimize the loss function.\n",
    "\n",
    "We'll use the MSE loss function."
   ]
  },
  {
   "cell_type": "code",
   "execution_count": 18,
   "metadata": {},
   "outputs": [
    {
     "data": {
      "text/plain": [
       "[Value(data=-0.23528973269490824, grad=0.0),\n",
       " Value(data=-0.143851440045126, grad=0.0),\n",
       " Value(data=-0.5568747426175676, grad=0.0),\n",
       " Value(data=-0.35607999199639484, grad=0.0)]"
      ]
     },
     "execution_count": 18,
     "metadata": {},
     "output_type": "execute_result"
    }
   ],
   "source": [
    "ypred = [mlp(x) for x in xs]\n",
    "ypred"
   ]
  },
  {
   "cell_type": "code",
   "execution_count": 19,
   "metadata": {},
   "outputs": [
    {
     "data": {
      "text/plain": [
       "Value(data=4.2942440188374515, grad=0.0)"
      ]
     },
     "execution_count": 19,
     "metadata": {},
     "output_type": "execute_result"
    }
   ],
   "source": [
    "loss: Value = sum([(yout - ygt)**2 for ygt, yout in zip(ys, ypred)])\n",
    "loss"
   ]
  },
  {
   "cell_type": "code",
   "execution_count": 20,
   "metadata": {},
   "outputs": [],
   "source": [
    "loss.backward()"
   ]
  },
  {
   "cell_type": "code",
   "execution_count": 21,
   "metadata": {},
   "outputs": [
    {
     "data": {
      "text/plain": [
       "Value(data=0.8768053405457576, grad=0.08343590775061324)"
      ]
     },
     "execution_count": 21,
     "metadata": {},
     "output_type": "execute_result"
    }
   ],
   "source": [
    "mlp.layers[0].neurons[0].w[0]"
   ]
  },
  {
   "cell_type": "code",
   "execution_count": 22,
   "metadata": {},
   "outputs": [],
   "source": [
    "# draw_dot(loss)"
   ]
  },
  {
   "cell_type": "code",
   "execution_count": 23,
   "metadata": {},
   "outputs": [
    {
     "name": "stdout",
     "output_type": "stream",
     "text": [
      "The network has 41 parameters\n"
     ]
    }
   ],
   "source": [
    "print(f\"The network has {len(mlp.parameters())} parameters\")"
   ]
  },
  {
   "cell_type": "markdown",
   "metadata": {},
   "source": [
    "#### Gradient Descent\n",
    "\n",
    "For each parameter, we want to move it in the direction that decreases the loss function.\n",
    "This means we want to move it in the direction of the negative gradient.\n",
    "\n",
    "You can think of the gradient vector as pointing uphill (increasing loss). We want to move in the opposite direction to decrease the loss.\n",
    "\n",
    "**Learning Rate:** don't set this too high or the network will diverge; the whole thing will get unstable, you might even explode the loss. If it's too low, the network will learn very slowly."
   ]
  },
  {
   "cell_type": "code",
   "execution_count": 24,
   "metadata": {},
   "outputs": [],
   "source": [
    "learning_rate = 0.01\n",
    "\n",
    "for p in mlp.parameters():\n",
    "    p.data -= learning_rate * p.grad"
   ]
  },
  {
   "cell_type": "code",
   "execution_count": 25,
   "metadata": {},
   "outputs": [
    {
     "name": "stdout",
     "output_type": "stream",
     "text": [
      "Epoch 0 Loss: 5.3436\n",
      "Epoch 100 Loss: 0.0071\n",
      "Epoch 200 Loss: 0.0032\n"
     ]
    },
    {
     "name": "stdout",
     "output_type": "stream",
     "text": [
      "Epoch 300 Loss: 0.0020\n",
      "Epoch 400 Loss: 0.0015\n",
      "Epoch 500 Loss: 0.0012\n",
      "Epoch 600 Loss: 0.0009\n",
      "Epoch 700 Loss: 0.0008\n",
      "Epoch 800 Loss: 0.0007\n",
      "Epoch 900 Loss: 0.0006\n",
      "Epoch 999 Loss: 0.0005\n"
     ]
    }
   ],
   "source": [
    "n_epochs = 1000\n",
    "learning_rate = 0.05\n",
    "\n",
    "mlp = MLP(3, [4, 4, 1])\n",
    "\n",
    "for k in range(n_epochs):\n",
    "    # Forward pass\n",
    "    y_pred = [mlp(x) for x in xs]\n",
    "    loss: Value = sum([(yout - ygt)**2 for ygt, yout in zip(ys, y_pred)]) # type: ignore\n",
    "    \n",
    "    # Backward pass\n",
    "    loss.backward()\n",
    "    \n",
    "    # Update. This is very simple - in practice we would use an optimizer\n",
    "    # like Adam or SGD with momentum.\n",
    "    for p in mlp.parameters():\n",
    "        p.data -= learning_rate * p.grad\n",
    "        p.grad = 0.0 # reset the gradients to 0 (zero-grad)\n",
    "\n",
    "    if k % 100 == 0:\n",
    "        print(f\"Epoch {k} Loss: {loss.data:.4f}\")\n",
    "    elif k == n_epochs - 1:\n",
    "        print(f\"Epoch {k} Loss: {loss.data:.4f}\")"
   ]
  },
  {
   "cell_type": "code",
   "execution_count": 26,
   "metadata": {},
   "outputs": [
    {
     "data": {
      "text/plain": [
       "[Value(data=0.9886359777984637, grad=-0.022728044403072634),\n",
       " Value(data=-0.9847987400873562, grad=0.03040251982528752),\n",
       " Value(data=-0.9932409065523544, grad=0.013518186895291162),\n",
       " Value(data=0.9880275260701197, grad=-0.023944947859760646)]"
      ]
     },
     "execution_count": 26,
     "metadata": {},
     "output_type": "execute_result"
    }
   ],
   "source": [
    "y_pred"
   ]
  },
  {
   "cell_type": "markdown",
   "metadata": {},
   "source": [
    "## Conclusion\n",
    "\n",
    "Neural networks are mathematical expressions.\n",
    "They take as input the data and the network parameters, and they output predictions.\n",
    "\n",
    "To train them, we start by doing a forward pass, and then compute their loss with a loss function.\n",
    "This calculates the accuracy of the predictions. The closer you are, the lower the loss (closer to 0).\n",
    "\n",
    "We then compute the gradients of the loss function w.r.t the network parameters.\n",
    "This tells us how to adjust the weights to make the loss lower.\n",
    "We do this by doing a backward pass through the network.\n",
    "\n",
    "And then we update the weights using the gradients and a learning rate.\n",
    "We use gradient descent, which is basically just the process of updating the weights to minimize the loss function iteratively."
   ]
  },
  {
   "cell_type": "markdown",
   "metadata": {},
   "source": [
    "**Why batches:**\n",
    "When you have a small dataset, you can just use the whole dataset to compute the gradients.\n",
    "But for large datasets, you pick up some random subset of the data (call that a batch) and only process (forward, backward, update) that batch.\n",
    "That way, we don't have to forward the entire training set."
   ]
  }
 ],
 "metadata": {
  "kernelspec": {
   "display_name": ".venv",
   "language": "python",
   "name": "python3"
  },
  "language_info": {
   "codemirror_mode": {
    "name": "ipython",
    "version": 3
   },
   "file_extension": ".py",
   "mimetype": "text/x-python",
   "name": "python",
   "nbconvert_exporter": "python",
   "pygments_lexer": "ipython3",
   "version": "3.12.2"
  }
 },
 "nbformat": 4,
 "nbformat_minor": 2
}
