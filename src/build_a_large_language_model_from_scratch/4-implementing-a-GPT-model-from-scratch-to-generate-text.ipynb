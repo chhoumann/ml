{
 "cells": [
  {
   "cell_type": "markdown",
   "metadata": {},
   "source": [
    "## 4.1 Coding an LLM architecture"
   ]
  },
  {
   "cell_type": "code",
   "execution_count": 111,
   "metadata": {},
   "outputs": [],
   "source": [
    "GPT_CONFIG_124M = {  # GPT-2 Small\n",
    "    \"vocab_size\": 50257,\n",
    "    \"context_length\": 1024,\n",
    "    \"emb_dim\": 768,\n",
    "    \"n_heads\": 12,\n",
    "    \"n_layers\": 12,\n",
    "    \"drop_rate\": 0.1,\n",
    "    \"qkv_bias\": False,\n",
    "}\n",
    "\n",
    "GPT_CONFIG_350M = {  # GPT-2 Medium\n",
    "    \"vocab_size\": 50257,\n",
    "    \"context_length\": 1024,\n",
    "    \"emb_dim\": 1024,\n",
    "    \"n_heads\": 16,\n",
    "    \"n_layers\": 24,\n",
    "    \"drop_rate\": 0.1,\n",
    "    \"qkv_bias\": False,\n",
    "}\n",
    "\n",
    "GPT_CONFIG_774M = {  # GPT-2 Large\n",
    "    \"vocab_size\": 50257,\n",
    "    \"context_length\": 1024,\n",
    "    \"emb_dim\": 1280,\n",
    "    \"n_heads\": 20,\n",
    "    \"n_layers\": 36,\n",
    "    \"drop_rate\": 0.1,\n",
    "    \"qkv_bias\": False,\n",
    "}\n",
    "\n",
    "GPT_CONFIG_1558M = {  # GPT-2 XL\n",
    "    \"vocab_size\": 50257,\n",
    "    \"context_length\": 1024,\n",
    "    \"emb_dim\": 1600,\n",
    "    \"n_heads\": 25,\n",
    "    \"n_layers\": 48,\n",
    "    \"drop_rate\": 0.1,\n",
    "    \"qkv_bias\": False,\n",
    "}"
   ]
  },
  {
   "cell_type": "code",
   "execution_count": 112,
   "metadata": {},
   "outputs": [
    {
     "data": {
      "text/plain": [
       "DummyGPTModel(\n",
       "  (tok_emb): Embedding(50257, 768)\n",
       "  (pos_emb): Embedding(1024, 768)\n",
       "  (drop_emb): Dropout(p=0.1, inplace=False)\n",
       "  (trf_blocks): Sequential(\n",
       "    (0): DummyTransformerBlock()\n",
       "    (1): DummyTransformerBlock()\n",
       "    (2): DummyTransformerBlock()\n",
       "    (3): DummyTransformerBlock()\n",
       "    (4): DummyTransformerBlock()\n",
       "    (5): DummyTransformerBlock()\n",
       "    (6): DummyTransformerBlock()\n",
       "    (7): DummyTransformerBlock()\n",
       "    (8): DummyTransformerBlock()\n",
       "    (9): DummyTransformerBlock()\n",
       "    (10): DummyTransformerBlock()\n",
       "    (11): DummyTransformerBlock()\n",
       "  )\n",
       "  (final_norm): DummyLayerNorm()\n",
       "  (out_head): Linear(in_features=768, out_features=50257, bias=False)\n",
       ")"
      ]
     },
     "execution_count": 112,
     "metadata": {},
     "output_type": "execute_result"
    }
   ],
   "source": [
    "import torch\n",
    "import torch.nn as nn\n",
    "\n",
    "\n",
    "class DummyGPTModel(nn.Module):\n",
    "    def __init__(\n",
    "        self,\n",
    "        vocab_size,\n",
    "        context_length,\n",
    "        emb_dim,\n",
    "        n_heads,\n",
    "        n_layers,\n",
    "        drop_rate,\n",
    "        qkv_bias=False,\n",
    "        **kwargs,\n",
    "    ):\n",
    "        super().__init__()\n",
    "        self.tok_emb = nn.Embedding(vocab_size, emb_dim)\n",
    "        self.pos_emb = nn.Embedding(context_length, emb_dim)\n",
    "        self.drop_emb = nn.Dropout(drop_rate)\n",
    "        self.trf_blocks = nn.Sequential(\n",
    "            *[\n",
    "                DummyTransformerBlock(\n",
    "                    vocab_size=vocab_size,\n",
    "                    context_length=context_length,\n",
    "                    emb_dim=emb_dim,\n",
    "                    n_heads=n_heads,\n",
    "                    n_layers=n_layers,\n",
    "                    drop_rate=drop_rate,\n",
    "                    qkv_bias=qkv_bias,\n",
    "                    **kwargs,\n",
    "                )\n",
    "                for _ in range(n_layers)\n",
    "            ]\n",
    "        )\n",
    "        self.final_norm = DummyLayerNorm(emb_dim)\n",
    "        self.out_head = nn.Linear(emb_dim, vocab_size, bias=False)\n",
    "\n",
    "    def forward(self, in_idx):\n",
    "        batch_size, seq_len = in_idx.shape\n",
    "        tok_embeds = self.tok_emb(in_idx)\n",
    "        pos_embeds = self.pos_emb(torch.arange(seq_len, device=in_idx.device))\n",
    "        x = tok_embeds + pos_embeds\n",
    "        x = self.drop_emb(x)\n",
    "        x = self.trf_blocks(x)\n",
    "        x = self.final_norm(x)\n",
    "        logits = self.out_head(x)\n",
    "        return logits\n",
    "\n",
    "\n",
    "class DummyTransformerBlock(nn.Module):\n",
    "    def __init__(\n",
    "        self,\n",
    "        vocab_size,\n",
    "        context_length,\n",
    "        emb_dim,\n",
    "        n_heads,\n",
    "        n_layers,\n",
    "        drop_rate,\n",
    "        qkv_bias=False,\n",
    "        **kwargs,\n",
    "    ):\n",
    "        super().__init__()\n",
    "\n",
    "    def forward(self, x):\n",
    "        return x\n",
    "\n",
    "\n",
    "class DummyLayerNorm(nn.Module):\n",
    "    def __init__(self, normalized_shape, eps=1e-5):\n",
    "        super().__init__()\n",
    "\n",
    "    def forward(self, x):\n",
    "        return x\n",
    "\n",
    "\n",
    "DummyGPTModel(**GPT_CONFIG_124M)"
   ]
  },
  {
   "cell_type": "code",
   "execution_count": 113,
   "metadata": {},
   "outputs": [
    {
     "name": "stdout",
     "output_type": "stream",
     "text": [
      "tensor([[6109, 3626, 6100,  345],\n",
      "        [6109, 1110, 6622,  257]])\n"
     ]
    }
   ],
   "source": [
    "import tiktoken\n",
    "\n",
    "tokenizer = tiktoken.get_encoding(\"gpt2\")\n",
    "batch = []\n",
    "txt1 = \"Every effort moves you\"\n",
    "txt2 = \"Every day holds a\"\n",
    "\n",
    "batch.append(torch.tensor(tokenizer.encode(txt1)))\n",
    "batch.append(torch.tensor(tokenizer.encode(txt2)))\n",
    "batch = torch.stack(batch, dim=0)\n",
    "print(batch)"
   ]
  },
  {
   "cell_type": "code",
   "execution_count": 114,
   "metadata": {},
   "outputs": [
    {
     "name": "stdout",
     "output_type": "stream",
     "text": [
      "tensor([[[ 0.7739,  0.0181, -0.0797,  ...,  0.3098,  0.8177, -0.6049],\n",
      "         [-0.8063,  0.8920, -1.0962,  ..., -0.4378,  1.1056,  0.1939],\n",
      "         [-0.8459, -1.0176,  0.4964,  ...,  0.4581, -0.3293,  0.2320],\n",
      "         [ 0.4098, -0.3144, -1.0831,  ...,  0.7491,  0.7018,  0.4715]],\n",
      "\n",
      "        [[ 0.2911,  0.1596, -0.2137,  ...,  0.5173,  0.7380, -0.7045],\n",
      "         [-0.4064,  0.6045, -0.4485,  ..., -0.5616,  0.4590, -0.1384],\n",
      "         [-0.6108,  0.7148,  1.2499,  ..., -0.7925, -0.5328,  0.4794],\n",
      "         [ 0.9423,  0.1867, -0.5557,  ...,  0.4156,  0.1756,  1.9882]]],\n",
      "       grad_fn=<UnsafeViewBackward0>) (logits.shape=torch.Size([2, 4, 50257]))\n"
     ]
    }
   ],
   "source": [
    "torch.manual_seed(42)\n",
    "model = DummyGPTModel(**GPT_CONFIG_124M)\n",
    "logits = model(batch)\n",
    "print(f\"{logits} ({logits.shape=})\")"
   ]
  },
  {
   "cell_type": "markdown",
   "metadata": {},
   "source": [
    "## 4.2 Normalizing activations with layer normalization"
   ]
  },
  {
   "cell_type": "code",
   "execution_count": 115,
   "metadata": {},
   "outputs": [
    {
     "name": "stdout",
     "output_type": "stream",
     "text": [
      "tensor([[0.0000, 0.1842, 0.0052, 0.7233, 0.0000, 0.5298],\n",
      "        [0.0000, 0.0000, 0.0000, 0.2237, 0.0000, 0.7727]],\n",
      "       grad_fn=<ReluBackward0>)\n",
      "mean=tensor([[0.2404],\n",
      "        [0.1661]], grad_fn=<MeanBackward1>)\n",
      "var=tensor([[0.0982],\n",
      "        [0.0963]], grad_fn=<VarBackward0>)\n"
     ]
    }
   ],
   "source": [
    "torch.manual_seed(42)\n",
    "batch_example = torch.randn(2, 5)\n",
    "layer = nn.Sequential(nn.Linear(5, 6), nn.ReLU())\n",
    "out = layer(batch_example)\n",
    "print(out)\n",
    "mean = out.mean(dim=-1, keepdim=True)\n",
    "var = out.var(dim=-1, keepdim=True)\n",
    "print(f\"{mean=}\\n{var=}\")"
   ]
  },
  {
   "cell_type": "markdown",
   "metadata": {},
   "source": [
    "First value in the `mean` tensor is the mean of the first row, second value is the mean for the second row. Likewise for the variance.\n",
    "\n",
    "`keepdim=True` means the output tensor retains the same number of dimensions as the input tensor, even though the operation reduces the tensor along the dimension specified via `dim`.\n",
    "`dim` specifies the dimension along which the calculation of the statistic should be performed."
   ]
  },
  {
   "cell_type": "code",
   "execution_count": 116,
   "metadata": {},
   "outputs": [
    {
     "name": "stdout",
     "output_type": "stream",
     "text": [
      "Normalized layer outputs:\n",
      " tensor([[-0.7672, -0.1794, -0.7506,  1.5410, -0.7672,  0.9234],\n",
      "        [-0.5351, -0.5351, -0.5351,  0.1857, -0.5351,  1.9546]],\n",
      "       grad_fn=<DivBackward0>)\n",
      "Mean:\n",
      "tensor([[0.0000e+00],\n",
      "        [7.4506e-09]], grad_fn=<MeanBackward1>)\n",
      "Variance:\n",
      "tensor([[1.0000],\n",
      "        [1.0000]], grad_fn=<VarBackward0>)\n"
     ]
    }
   ],
   "source": [
    "out_norm = (out - mean) / torch.sqrt(var)\n",
    "mean = out_norm.mean(dim=-1, keepdim=True)\n",
    "var = out_norm.var(dim=-1, keepdim=True)\n",
    "print(\"Normalized layer outputs:\\n\", out_norm)\n",
    "print(f\"Mean:\\n{mean}\")\n",
    "print(f\"Variance:\\n{var}\")"
   ]
  },
  {
   "cell_type": "code",
   "execution_count": 117,
   "metadata": {},
   "outputs": [],
   "source": [
    "class LayerNorm(nn.Module):\n",
    "    def __init__(self, emb_dim):\n",
    "        super().__init__()\n",
    "        self.eps = 1e-5  # Prevent division by zero\n",
    "        self.scale = nn.Parameter(torch.ones(emb_dim))\n",
    "        self.shift = nn.Parameter(torch.zeros(emb_dim))\n",
    "\n",
    "    def forward(self, x):\n",
    "        mean = x.mean(dim=-1, keepdim=True)\n",
    "        var = x.var(dim=-1, keepdim=True, unbiased=False)\n",
    "        norm_x = (x - mean) / torch.sqrt(var + self.eps)\n",
    "        return self.scale * norm_x + self.shift"
   ]
  },
  {
   "cell_type": "code",
   "execution_count": 118,
   "metadata": {},
   "outputs": [
    {
     "name": "stdout",
     "output_type": "stream",
     "text": [
      "Mean:\n",
      " tensor([[-1.1921e-08],\n",
      "        [ 3.2037e-08]], grad_fn=<MeanBackward1>)\n",
      "Variance:\n",
      " tensor([[1.0000],\n",
      "        [1.0000]], grad_fn=<VarBackward0>)\n"
     ]
    }
   ],
   "source": [
    "ln = LayerNorm(emb_dim=5)\n",
    "out_ln = ln(batch_example)\n",
    "mean = out_ln.mean(dim=-1, keepdim=True)\n",
    "var = out_ln.var(dim=-1, unbiased=False, keepdim=True)\n",
    "print(\"Mean:\\n\", mean)\n",
    "print(\"Variance:\\n\", var)"
   ]
  },
  {
   "cell_type": "markdown",
   "metadata": {},
   "source": [
    "## 4.3 Implementing a feed forward network with GELU activations"
   ]
  },
  {
   "cell_type": "code",
   "execution_count": 119,
   "metadata": {},
   "outputs": [],
   "source": [
    "class GELU(nn.Module):\n",
    "    def __init__(self):\n",
    "        super().__init__()\n",
    "\n",
    "    def forward(self, x):\n",
    "        return (\n",
    "            0.5 * x * (1 + torch.tanh(\n",
    "                torch.sqrt(torch.tensor(2.0 / torch.pi))\n",
    "                * (x + 0.044715 * torch.pow(x, 3))\n",
    "            ))\n",
    "        )"
   ]
  },
  {
   "cell_type": "code",
   "execution_count": 120,
   "metadata": {},
   "outputs": [],
   "source": [
    "class FeedForward(nn.Module):\n",
    "    def __init__(self, emb_dim):\n",
    "        super().__init__()\n",
    "        self.layers = nn.Sequential(\n",
    "            nn.Linear(emb_dim, 4 * emb_dim),\n",
    "            GELU(),\n",
    "            nn.Linear(4 * emb_dim, emb_dim)\n",
    "        )\n",
    "\n",
    "    def forward(self, x):\n",
    "        return self.layers(x)"
   ]
  },
  {
   "cell_type": "markdown",
   "metadata": {},
   "source": [
    "## 4.4 Adding shortcut connections"
   ]
  },
  {
   "cell_type": "markdown",
   "metadata": {},
   "source": [
    "## 4.5 Connecting attention and linear layers in a transformer block\n"
   ]
  },
  {
   "cell_type": "code",
   "execution_count": 121,
   "metadata": {},
   "outputs": [],
   "source": [
    "# From chapter 3\n",
    "class MultiHeadAttention(nn.Module):\n",
    "    def __init__(\n",
    "        self,\n",
    "        d_in: int,\n",
    "        d_out: int,\n",
    "        context_length: int,\n",
    "        drop_rate: float,\n",
    "        num_heads: int,\n",
    "        qkv_bias=False,\n",
    "    ):\n",
    "        super().__init__()\n",
    "        assert d_out % num_heads == 0, \"d_out must be divisible by num_heads\"\n",
    "\n",
    "        self.d_out = d_out\n",
    "        self.num_heads = num_heads\n",
    "        self.head_dim = (\n",
    "            d_out // num_heads\n",
    "        )  # Reduces projection dim to match desired output dim\n",
    "        self.W_query = nn.Linear(d_in, d_out, bias=qkv_bias)\n",
    "        self.W_key = nn.Linear(d_in, d_out, bias=qkv_bias)\n",
    "        self.W_value = nn.Linear(d_in, d_out, bias=qkv_bias)\n",
    "        self.out_proj = nn.Linear(d_out, d_out)  # To combine head outputs\n",
    "        self.dropout = nn.Dropout(drop_rate)\n",
    "        self.register_buffer(\n",
    "            \"mask\", torch.triu(torch.ones(context_length, context_length), diagonal=1)\n",
    "        )\n",
    "\n",
    "    def forward(self, x):\n",
    "        b, num_tokens, d_in = x.shape\n",
    "        # Tensor shape (b, num_tokens, d_out)\n",
    "        keys = self.W_key(x)\n",
    "        queries = self.W_query(x)\n",
    "        values = self.W_value(x)\n",
    "\n",
    "        keys = keys.view(\n",
    "            b, num_tokens, self.num_heads, self.head_dim\n",
    "        )  # implicitly split the matrix by adding num_heads dimension, then unroll the last dim: (b, num_tokens, d_out) -> (b, num_tokens, num_heads, head_dim)\n",
    "        values = values.view(b, num_tokens, self.num_heads, self.head_dim)\n",
    "        queries = queries.view(b, num_tokens, self.num_heads, self.head_dim)\n",
    "\n",
    "        # Transposes from shape (b, num_tokens, num_heads, head_dim) to (b, num_heads, num_tokens, head_dim)\n",
    "        keys = keys.transpose(1, 2)\n",
    "        queries = queries.transpose(1, 2)\n",
    "        values = values.transpose(1, 2)\n",
    "\n",
    "        attn_scores = queries @ keys.transpose(\n",
    "            2, 3\n",
    "        )  # compute dot product for each head\n",
    "        mask_bool = self.mask.bool()[\n",
    "            :num_tokens, :num_tokens\n",
    "        ]  # masks truncated to the number of tokens\n",
    "\n",
    "        attn_scores.masked_fill_(mask_bool, -torch.inf)  # uses mask to fill attn scores\n",
    "\n",
    "        attn_weights = torch.softmax(attn_scores / keys.shape[-1] ** 0.5, dim=-1)\n",
    "        attn_weights = self.dropout(attn_weights)\n",
    "\n",
    "        context_vec = (attn_weights @ values).transpose(\n",
    "            1, 2\n",
    "        )  # tensor shape: (b, num_tokens, n_heads, head_dim)\n",
    "\n",
    "        context_vec = context_vec.contiguous().view(b, num_tokens, self.d_out)\n",
    "        context_vec = self.out_proj(context_vec)  # optional linear projection\n",
    "        return context_vec\n"
   ]
  },
  {
   "cell_type": "code",
   "execution_count": 122,
   "metadata": {},
   "outputs": [],
   "source": [
    "class TransformerBlock(nn.Module):\n",
    "    def __init__(self, emb_dim, context_length, num_heads, drop_rate, qkv_bias):\n",
    "        super().__init__()\n",
    "        self.layers = nn.ModuleList(\n",
    "            [\n",
    "                nn.Sequential(\n",
    "                    LayerNorm(emb_dim),\n",
    "                    MultiHeadAttention(\n",
    "                        d_in=emb_dim,\n",
    "                        d_out=emb_dim,\n",
    "                        context_length=context_length,\n",
    "                        drop_rate=drop_rate,\n",
    "                        num_heads=num_heads,\n",
    "                        qkv_bias=qkv_bias,\n",
    "                    ),\n",
    "                    nn.Dropout(drop_rate),\n",
    "                ),\n",
    "                nn.Sequential(\n",
    "                    LayerNorm(emb_dim), FeedForward(emb_dim), nn.Dropout(drop_rate)\n",
    "                ),\n",
    "            ]\n",
    "        )\n",
    "\n",
    "    def forward(self, x):\n",
    "        for layer in self.layers:\n",
    "            x = layer(x) + x\n",
    "        return x"
   ]
  },
  {
   "cell_type": "code",
   "execution_count": 123,
   "metadata": {},
   "outputs": [
    {
     "name": "stdout",
     "output_type": "stream",
     "text": [
      "Input shape: x.shape=torch.Size([2, 4, 768])\n",
      "Output shape: output.shape=torch.Size([2, 4, 768])\n"
     ]
    }
   ],
   "source": [
    "torch.manual_seed(123)\n",
    "x = torch.rand(2, 4, 768)\n",
    "block = TransformerBlock(\n",
    "    context_length=GPT_CONFIG_124M[\"context_length\"],\n",
    "    drop_rate=GPT_CONFIG_124M[\"drop_rate\"],\n",
    "    emb_dim=GPT_CONFIG_124M[\"emb_dim\"],\n",
    "    num_heads=GPT_CONFIG_124M[\"n_heads\"],\n",
    "    qkv_bias=GPT_CONFIG_124M[\"qkv_bias\"]\n",
    ")\n",
    "output = block(x)\n",
    "\n",
    "print(f\"Input shape: {x.shape=}\")\n",
    "print(f\"Output shape: {output.shape=}\")"
   ]
  },
  {
   "cell_type": "markdown",
   "metadata": {},
   "source": [
    "## 4.6 Coding the GPT model\n"
   ]
  },
  {
   "cell_type": "code",
   "execution_count": 124,
   "metadata": {},
   "outputs": [],
   "source": [
    "class GPTModel(nn.Module):\n",
    "    def __init__(\n",
    "        self,\n",
    "        vocab_size,\n",
    "        context_length,\n",
    "        emb_dim,\n",
    "        n_heads,\n",
    "        n_layers,\n",
    "        drop_rate,\n",
    "        qkv_bias=False,\n",
    "        **kwargs,\n",
    "    ):\n",
    "        super().__init__()\n",
    "        self.tok_emb = nn.Embedding(vocab_size, emb_dim)\n",
    "        self.pos_emb = nn.Embedding(context_length, emb_dim)\n",
    "        self.drop_emb = nn.Dropout(drop_rate)\n",
    "        self.trf_blocks = nn.Sequential(\n",
    "            *[\n",
    "                TransformerBlock(\n",
    "                    context_length=context_length,\n",
    "                    emb_dim=emb_dim,\n",
    "                    num_heads=n_heads,\n",
    "                    drop_rate=drop_rate,\n",
    "                    qkv_bias=qkv_bias,\n",
    "                    **kwargs,\n",
    "                )\n",
    "                for _ in range(n_layers)\n",
    "            ]\n",
    "        )\n",
    "        self.final_norm = LayerNorm(emb_dim)\n",
    "        self.out_head = nn.Linear(emb_dim, vocab_size, bias=False)\n",
    "\n",
    "    def forward(self, in_idx):\n",
    "        batch_size, seq_len = in_idx.shape\n",
    "        tok_embeds = self.tok_emb(in_idx)\n",
    "        pos_embeds = self.pos_emb(torch.arange(seq_len, device=in_idx.device))\n",
    "        x = tok_embeds + pos_embeds\n",
    "        x = self.drop_emb(x)\n",
    "        x = self.trf_blocks(x)\n",
    "        x = self.final_norm(x)\n",
    "        logits = self.out_head(x)\n",
    "        return logits"
   ]
  },
  {
   "cell_type": "code",
   "execution_count": 125,
   "metadata": {},
   "outputs": [
    {
     "name": "stdout",
     "output_type": "stream",
     "text": [
      "Input batch:\n",
      "tensor([[6109, 3626, 6100,  345],\n",
      "        [6109, 1110, 6622,  257]])\n",
      "\n",
      "Output shape: out.shape=torch.Size([2, 4, 50257])\n",
      "tensor([[[ 0.1381,  0.0077, -0.1963,  ..., -0.0222, -0.1060,  0.1717],\n",
      "         [ 0.3865, -0.8408, -0.6564,  ..., -0.5163,  0.2369, -0.3357],\n",
      "         [ 0.6989, -0.1829, -0.1631,  ...,  0.1472, -0.6504, -0.0056],\n",
      "         [-0.4290,  0.1669, -0.1258,  ...,  1.1579,  0.5303, -0.5549]],\n",
      "\n",
      "        [[ 0.1094, -0.2894, -0.1467,  ..., -0.0557,  0.2911, -0.2824],\n",
      "         [ 0.0882, -0.3552, -0.3527,  ...,  1.2930,  0.0053,  0.1898],\n",
      "         [ 0.6091,  0.4702, -0.4094,  ...,  0.7688,  0.3787, -0.1974],\n",
      "         [-0.0612, -0.0737,  0.4751,  ...,  1.2463, -0.3834,  0.0609]]],\n",
      "       grad_fn=<UnsafeViewBackward0>)\n"
     ]
    }
   ],
   "source": [
    "torch.manual_seed(123)\n",
    "\n",
    "cfg = GPT_CONFIG_124M\n",
    "\n",
    "model = GPTModel(\n",
    "    vocab_size=cfg[\"vocab_size\"],\n",
    "    context_length=cfg[\"context_length\"],\n",
    "    drop_rate=cfg[\"drop_rate\"],\n",
    "    emb_dim=cfg[\"emb_dim\"],\n",
    "    n_heads=cfg[\"n_heads\"],\n",
    "    n_layers=cfg[\"n_layers\"],\n",
    "    qkv_bias=cfg[\"qkv_bias\"]\n",
    ")\n",
    "\n",
    "out = model(batch)\n",
    "print(f\"Input batch:\\n{batch}\")\n",
    "print()\n",
    "print(f\"Output shape: {out.shape=}\")\n",
    "print(out)"
   ]
  },
  {
   "cell_type": "code",
   "execution_count": 126,
   "metadata": {},
   "outputs": [
    {
     "name": "stdout",
     "output_type": "stream",
     "text": [
      "Total number of parameters: 163,009,536\n"
     ]
    }
   ],
   "source": [
    "total_params = sum(p.numel() for p in model.parameters())\n",
    "print(f\"Total number of parameters: {total_params:,}\")"
   ]
  },
  {
   "cell_type": "code",
   "execution_count": 127,
   "metadata": {},
   "outputs": [
    {
     "name": "stdout",
     "output_type": "stream",
     "text": [
      "Parameters in feed forward layers: 56,669,184\n",
      "Parameters in attention layers: 28,320,768\n",
      "Percentage of total parameters:\n",
      "Feed forward: 34.8%\n",
      "Attention: 17.4%\n"
     ]
    }
   ],
   "source": [
    "# Exercise 4.1: Calculate the number of parameters that are contained in the feed forward module and those that are contained in the multi-head attention module.\n",
    "ff_params = 0\n",
    "attn_params = 0\n",
    "\n",
    "for module in model.modules():\n",
    "    if isinstance(module, FeedForward):\n",
    "        ff_params += sum(p.numel() for p in module.parameters())\n",
    "    elif isinstance(module, MultiHeadAttention):\n",
    "        attn_params += sum(p.numel() for p in module.parameters())\n",
    "\n",
    "print(f\"Parameters in feed forward layers: {ff_params:,}\")\n",
    "print(f\"Parameters in attention layers: {attn_params:,}\")\n",
    "print(f\"Percentage of total parameters:\")\n",
    "print(f\"Feed forward: {ff_params/total_params*100:.1f}%\")\n",
    "print(f\"Attention: {attn_params/total_params*100:.1f}%\")"
   ]
  },
  {
   "cell_type": "code",
   "execution_count": 128,
   "metadata": {},
   "outputs": [
    {
     "name": "stdout",
     "output_type": "stream",
     "text": [
      "Total size of the model: 621.83 MB\n"
     ]
    }
   ],
   "source": [
    "total_size_bytes = total_params * 4 # assumes float32, = 4 bytes per parameter\n",
    "total_size_mb = total_size_bytes / (1024 * 1024)\n",
    "print(f\"Total size of the model: {total_size_mb:.2f} MB\")"
   ]
  },
  {
   "cell_type": "markdown",
   "metadata": {},
   "source": [
    "## 4.7 Generating text"
   ]
  },
  {
   "cell_type": "code",
   "execution_count": 129,
   "metadata": {},
   "outputs": [],
   "source": [
    "# `idx` is a (batch, n_tokens) array of indices in the current context\n",
    "def generate_text_simple(model, idx, max_new_tokens, context_size):\n",
    "    for _ in range(max_new_tokens):\n",
    "        # crops current context if it exceeds supported context size (only last 'context_size' tokens are used as context if current context is larger than dontext_size)\n",
    "        idx_cond = idx[:, -context_size:]\n",
    "        with torch.no_grad():\n",
    "            logits = model(idx_cond)\n",
    "\n",
    "        logits = logits[:, -1, :] # focus on last time step\n",
    "        probas = torch.softmax(logits, dim=-1) # (batch, vocab_size)\n",
    "        idx_next = torch.argmax(probas, dim=-1, keepdim=True) # (batch, 1)\n",
    "        idx = torch.cat((idx, idx_next), dim=1) # appends sampled index to the running sequence. idx: (batch, n_tokens+1)\n",
    "\n",
    "    return idx"
   ]
  },
  {
   "cell_type": "code",
   "execution_count": 130,
   "metadata": {},
   "outputs": [
    {
     "name": "stdout",
     "output_type": "stream",
     "text": [
      "encoded=[15496, 11, 314, 716]\n",
      "encoded_tensor.shape=torch.Size([1, 4])\n"
     ]
    }
   ],
   "source": [
    "start_context = \"Hello, I am\"\n",
    "encoded = tokenizer.encode(start_context)\n",
    "print(f\"{encoded=}\")\n",
    "encoded_tensor = torch.tensor(encoded).unsqueeze(0) # adds batch dimension\n",
    "print(f\"{encoded_tensor.shape=}\")"
   ]
  },
  {
   "cell_type": "code",
   "execution_count": 131,
   "metadata": {},
   "outputs": [
    {
     "name": "stdout",
     "output_type": "stream",
     "text": [
      "out=tensor([[15496,    11,   314,   716, 27018, 24086, 47843, 30961, 42348,  7267]])\n",
      "len(out)=1\n"
     ]
    }
   ],
   "source": [
    "model.eval()\n",
    "out = generate_text_simple(\n",
    "    model=model,\n",
    "    idx=encoded_tensor,\n",
    "    max_new_tokens=6,\n",
    "    context_size=cfg[\"context_length\"]\n",
    ")\n",
    "print(f\"{out=}\")\n",
    "print(f\"{len(out)=}\")"
   ]
  },
  {
   "cell_type": "code",
   "execution_count": 132,
   "metadata": {},
   "outputs": [
    {
     "name": "stdout",
     "output_type": "stream",
     "text": [
      "Hello, I am Featureiman Byeswickattribute argue\n"
     ]
    }
   ],
   "source": [
    "decoded_text = tokenizer.decode(out.squeeze(0).tolist())\n",
    "print(decoded_text)"
   ]
  }
 ],
 "metadata": {
  "kernelspec": {
   "display_name": ".venv",
   "language": "python",
   "name": "python3"
  },
  "language_info": {
   "codemirror_mode": {
    "name": "ipython",
    "version": 3
   },
   "file_extension": ".py",
   "mimetype": "text/x-python",
   "name": "python",
   "nbconvert_exporter": "python",
   "pygments_lexer": "ipython3",
   "version": "3.12.7"
  }
 },
 "nbformat": 4,
 "nbformat_minor": 2
}
